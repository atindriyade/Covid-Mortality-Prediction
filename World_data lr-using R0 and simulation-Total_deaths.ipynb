{
 "cells": [
  {
   "cell_type": "code",
   "execution_count": 1,
   "metadata": {},
   "outputs": [],
   "source": [
    "import pandas as pd\n",
    "import matplotlib.pyplot as plt\n",
    "import numpy as np\n",
    "from sklearn import linear_model\n",
    "from sklearn.linear_model import LinearRegression"
   ]
  },
  {
   "cell_type": "code",
   "execution_count": 2,
   "metadata": {},
   "outputs": [],
   "source": [
    "import warnings\n",
    "warnings.filterwarnings('ignore')"
   ]
  },
  {
   "cell_type": "code",
   "execution_count": 3,
   "metadata": {},
   "outputs": [],
   "source": [
    "df=pd.read_excel(\"77countries.xlsx\")\n"
   ]
  },
  {
   "cell_type": "code",
   "execution_count": 4,
   "metadata": {},
   "outputs": [
    {
     "data": {
      "text/html": [
       "<div>\n",
       "<style scoped>\n",
       "    .dataframe tbody tr th:only-of-type {\n",
       "        vertical-align: middle;\n",
       "    }\n",
       "\n",
       "    .dataframe tbody tr th {\n",
       "        vertical-align: top;\n",
       "    }\n",
       "\n",
       "    .dataframe thead th {\n",
       "        text-align: right;\n",
       "    }\n",
       "</style>\n",
       "<table border=\"1\" class=\"dataframe\">\n",
       "  <thead>\n",
       "    <tr style=\"text-align: right;\">\n",
       "      <th></th>\n",
       "      <th>continent</th>\n",
       "      <th>location</th>\n",
       "      <th>total_deaths</th>\n",
       "      <th>R0</th>\n",
       "      <th>total_cases</th>\n",
       "      <th>new_cases</th>\n",
       "      <th>population</th>\n",
       "      <th>population_density</th>\n",
       "      <th>median_age</th>\n",
       "      <th>aged_65_older</th>\n",
       "      <th>aged_70_older</th>\n",
       "      <th>gdp_per_capita</th>\n",
       "      <th>extreme_poverty</th>\n",
       "      <th>cardiovasc_death_rate</th>\n",
       "      <th>diabetes_prevalence</th>\n",
       "      <th>female_smokers</th>\n",
       "      <th>male_smokers</th>\n",
       "      <th>hospital_beds_per_thousand</th>\n",
       "      <th>life_expectancy</th>\n",
       "    </tr>\n",
       "  </thead>\n",
       "  <tbody>\n",
       "    <tr>\n",
       "      <th>0</th>\n",
       "      <td>North America</td>\n",
       "      <td>United States</td>\n",
       "      <td>185744</td>\n",
       "      <td>2.465409</td>\n",
       "      <td>6114406</td>\n",
       "      <td>38754</td>\n",
       "      <td>331002647</td>\n",
       "      <td>35.608</td>\n",
       "      <td>38.3</td>\n",
       "      <td>15.413</td>\n",
       "      <td>9.732</td>\n",
       "      <td>54225.446</td>\n",
       "      <td>1.2</td>\n",
       "      <td>151.089</td>\n",
       "      <td>10.79</td>\n",
       "      <td>19.1</td>\n",
       "      <td>24.6</td>\n",
       "      <td>2.77</td>\n",
       "      <td>78.86</td>\n",
       "    </tr>\n",
       "    <tr>\n",
       "      <th>1</th>\n",
       "      <td>South America</td>\n",
       "      <td>Brazil</td>\n",
       "      <td>123780</td>\n",
       "      <td>2.000668</td>\n",
       "      <td>3997865</td>\n",
       "      <td>46934</td>\n",
       "      <td>212559409</td>\n",
       "      <td>25.040</td>\n",
       "      <td>33.5</td>\n",
       "      <td>8.552</td>\n",
       "      <td>5.060</td>\n",
       "      <td>14103.452</td>\n",
       "      <td>3.4</td>\n",
       "      <td>177.961</td>\n",
       "      <td>8.11</td>\n",
       "      <td>10.1</td>\n",
       "      <td>17.9</td>\n",
       "      <td>2.20</td>\n",
       "      <td>75.88</td>\n",
       "    </tr>\n",
       "    <tr>\n",
       "      <th>2</th>\n",
       "      <td>Asia</td>\n",
       "      <td>India</td>\n",
       "      <td>67376</td>\n",
       "      <td>1.731947</td>\n",
       "      <td>3853406</td>\n",
       "      <td>83883</td>\n",
       "      <td>1380004385</td>\n",
       "      <td>450.419</td>\n",
       "      <td>28.2</td>\n",
       "      <td>5.989</td>\n",
       "      <td>3.414</td>\n",
       "      <td>6426.674</td>\n",
       "      <td>21.2</td>\n",
       "      <td>282.280</td>\n",
       "      <td>10.39</td>\n",
       "      <td>1.9</td>\n",
       "      <td>20.6</td>\n",
       "      <td>0.53</td>\n",
       "      <td>69.66</td>\n",
       "    </tr>\n",
       "    <tr>\n",
       "      <th>3</th>\n",
       "      <td>North America</td>\n",
       "      <td>Mexico</td>\n",
       "      <td>65816</td>\n",
       "      <td>1.800513</td>\n",
       "      <td>610957</td>\n",
       "      <td>4921</td>\n",
       "      <td>128932753</td>\n",
       "      <td>66.444</td>\n",
       "      <td>29.3</td>\n",
       "      <td>6.857</td>\n",
       "      <td>4.321</td>\n",
       "      <td>17336.469</td>\n",
       "      <td>2.5</td>\n",
       "      <td>152.783</td>\n",
       "      <td>13.06</td>\n",
       "      <td>6.9</td>\n",
       "      <td>21.4</td>\n",
       "      <td>1.38</td>\n",
       "      <td>75.05</td>\n",
       "    </tr>\n",
       "    <tr>\n",
       "      <th>4</th>\n",
       "      <td>Europe</td>\n",
       "      <td>United Kingdom</td>\n",
       "      <td>41514</td>\n",
       "      <td>2.042228</td>\n",
       "      <td>338676</td>\n",
       "      <td>1508</td>\n",
       "      <td>67886004</td>\n",
       "      <td>272.898</td>\n",
       "      <td>40.8</td>\n",
       "      <td>18.517</td>\n",
       "      <td>12.527</td>\n",
       "      <td>39753.244</td>\n",
       "      <td>0.2</td>\n",
       "      <td>122.137</td>\n",
       "      <td>4.28</td>\n",
       "      <td>20.0</td>\n",
       "      <td>24.7</td>\n",
       "      <td>2.54</td>\n",
       "      <td>81.32</td>\n",
       "    </tr>\n",
       "  </tbody>\n",
       "</table>\n",
       "</div>"
      ],
      "text/plain": [
       "       continent        location  total_deaths        R0  total_cases  \\\n",
       "0  North America   United States        185744  2.465409      6114406   \n",
       "1  South America          Brazil        123780  2.000668      3997865   \n",
       "2           Asia           India         67376  1.731947      3853406   \n",
       "3  North America          Mexico         65816  1.800513       610957   \n",
       "4         Europe  United Kingdom         41514  2.042228       338676   \n",
       "\n",
       "   new_cases  population  population_density  median_age  aged_65_older  \\\n",
       "0      38754   331002647              35.608        38.3         15.413   \n",
       "1      46934   212559409              25.040        33.5          8.552   \n",
       "2      83883  1380004385             450.419        28.2          5.989   \n",
       "3       4921   128932753              66.444        29.3          6.857   \n",
       "4       1508    67886004             272.898        40.8         18.517   \n",
       "\n",
       "   aged_70_older  gdp_per_capita  extreme_poverty  cardiovasc_death_rate  \\\n",
       "0          9.732       54225.446              1.2                151.089   \n",
       "1          5.060       14103.452              3.4                177.961   \n",
       "2          3.414        6426.674             21.2                282.280   \n",
       "3          4.321       17336.469              2.5                152.783   \n",
       "4         12.527       39753.244              0.2                122.137   \n",
       "\n",
       "   diabetes_prevalence  female_smokers  male_smokers  \\\n",
       "0                10.79            19.1          24.6   \n",
       "1                 8.11            10.1          17.9   \n",
       "2                10.39             1.9          20.6   \n",
       "3                13.06             6.9          21.4   \n",
       "4                 4.28            20.0          24.7   \n",
       "\n",
       "   hospital_beds_per_thousand  life_expectancy  \n",
       "0                        2.77            78.86  \n",
       "1                        2.20            75.88  \n",
       "2                        0.53            69.66  \n",
       "3                        1.38            75.05  \n",
       "4                        2.54            81.32  "
      ]
     },
     "execution_count": 4,
     "metadata": {},
     "output_type": "execute_result"
    }
   ],
   "source": [
    "df.head()"
   ]
  },
  {
   "cell_type": "code",
   "execution_count": 5,
   "metadata": {},
   "outputs": [
    {
     "name": "stdout",
     "output_type": "stream",
     "text": [
      "<class 'pandas.core.frame.DataFrame'>\n",
      "RangeIndex: 77 entries, 0 to 76\n",
      "Data columns (total 19 columns):\n",
      " #   Column                      Non-Null Count  Dtype  \n",
      "---  ------                      --------------  -----  \n",
      " 0   continent                   77 non-null     object \n",
      " 1   location                    77 non-null     object \n",
      " 2   total_deaths                77 non-null     int64  \n",
      " 3   R0                          77 non-null     float64\n",
      " 4   total_cases                 77 non-null     int64  \n",
      " 5   new_cases                   77 non-null     int64  \n",
      " 6   population                  77 non-null     int64  \n",
      " 7   population_density          77 non-null     float64\n",
      " 8   median_age                  77 non-null     float64\n",
      " 9   aged_65_older               77 non-null     float64\n",
      " 10  aged_70_older               76 non-null     float64\n",
      " 11  gdp_per_capita              77 non-null     float64\n",
      " 12  extreme_poverty             58 non-null     float64\n",
      " 13  cardiovasc_death_rate       77 non-null     float64\n",
      " 14  diabetes_prevalence         77 non-null     float64\n",
      " 15  female_smokers              72 non-null     float64\n",
      " 16  male_smokers                70 non-null     float64\n",
      " 17  hospital_beds_per_thousand  75 non-null     float64\n",
      " 18  life_expectancy             77 non-null     float64\n",
      "dtypes: float64(13), int64(4), object(2)\n",
      "memory usage: 11.6+ KB\n",
      "None\n"
     ]
    }
   ],
   "source": [
    "print(df.info())"
   ]
  },
  {
   "cell_type": "code",
   "execution_count": 6,
   "metadata": {},
   "outputs": [],
   "source": [
    "df.dropna(inplace=True)"
   ]
  },
  {
   "cell_type": "code",
   "execution_count": 7,
   "metadata": {},
   "outputs": [
    {
     "data": {
      "text/plain": [
       "(51, 19)"
      ]
     },
     "execution_count": 7,
     "metadata": {},
     "output_type": "execute_result"
    }
   ],
   "source": [
    "df.shape"
   ]
  },
  {
   "cell_type": "code",
   "execution_count": 8,
   "metadata": {},
   "outputs": [],
   "source": [
    "df_numerical=df.iloc[:,2:]"
   ]
  },
  {
   "cell_type": "code",
   "execution_count": 9,
   "metadata": {},
   "outputs": [
    {
     "data": {
      "text/plain": [
       "(51, 17)"
      ]
     },
     "execution_count": 9,
     "metadata": {},
     "output_type": "execute_result"
    }
   ],
   "source": [
    "df_numerical.shape"
   ]
  },
  {
   "cell_type": "markdown",
   "metadata": {},
   "source": [
    "### Using only Elasticnet regression\n",
    "\n",
    "Elastic net linear regression uses the penalties from both the lasso and ridge techniques to regularize regression models.Ridge regression decreases the complexity of a model but does not reduce the number of variables, it rather just shrinks their effect.Lasso on the other hand can eliminate some features entirely and give a subset of predictors that helps mitigate multi-collinearity and model complexity. Elastic net will shrink some coefficients and set some to 0 for sparse selection thus using the feature of both the lasso and ridge and making a more balanced model. \n",
    "\n",
    "* The elastic net method performs variable selection and regularization simultaneously.\n",
    "* Groupings and variables selection are the key roles of the elastic net technique.\n"
   ]
  },
  {
   "cell_type": "code",
   "execution_count": 10,
   "metadata": {},
   "outputs": [
    {
     "data": {
      "text/html": [
       "<div>\n",
       "<style scoped>\n",
       "    .dataframe tbody tr th:only-of-type {\n",
       "        vertical-align: middle;\n",
       "    }\n",
       "\n",
       "    .dataframe tbody tr th {\n",
       "        vertical-align: top;\n",
       "    }\n",
       "\n",
       "    .dataframe thead th {\n",
       "        text-align: right;\n",
       "    }\n",
       "</style>\n",
       "<table border=\"1\" class=\"dataframe\">\n",
       "  <thead>\n",
       "    <tr style=\"text-align: right;\">\n",
       "      <th></th>\n",
       "      <th>total_deaths</th>\n",
       "      <th>R0</th>\n",
       "      <th>total_cases</th>\n",
       "      <th>new_cases</th>\n",
       "      <th>population</th>\n",
       "      <th>population_density</th>\n",
       "      <th>median_age</th>\n",
       "      <th>aged_65_older</th>\n",
       "      <th>aged_70_older</th>\n",
       "      <th>gdp_per_capita</th>\n",
       "      <th>extreme_poverty</th>\n",
       "      <th>cardiovasc_death_rate</th>\n",
       "      <th>diabetes_prevalence</th>\n",
       "      <th>female_smokers</th>\n",
       "      <th>male_smokers</th>\n",
       "      <th>hospital_beds_per_thousand</th>\n",
       "      <th>life_expectancy</th>\n",
       "    </tr>\n",
       "  </thead>\n",
       "  <tbody>\n",
       "    <tr>\n",
       "      <th>0</th>\n",
       "      <td>185744</td>\n",
       "      <td>2.465409</td>\n",
       "      <td>6114406</td>\n",
       "      <td>38754</td>\n",
       "      <td>331002647</td>\n",
       "      <td>35.608</td>\n",
       "      <td>38.3</td>\n",
       "      <td>15.413</td>\n",
       "      <td>9.732</td>\n",
       "      <td>54225.446</td>\n",
       "      <td>1.2</td>\n",
       "      <td>151.089</td>\n",
       "      <td>10.79</td>\n",
       "      <td>19.1</td>\n",
       "      <td>24.6</td>\n",
       "      <td>2.77</td>\n",
       "      <td>78.86</td>\n",
       "    </tr>\n",
       "    <tr>\n",
       "      <th>1</th>\n",
       "      <td>123780</td>\n",
       "      <td>2.000668</td>\n",
       "      <td>3997865</td>\n",
       "      <td>46934</td>\n",
       "      <td>212559409</td>\n",
       "      <td>25.040</td>\n",
       "      <td>33.5</td>\n",
       "      <td>8.552</td>\n",
       "      <td>5.060</td>\n",
       "      <td>14103.452</td>\n",
       "      <td>3.4</td>\n",
       "      <td>177.961</td>\n",
       "      <td>8.11</td>\n",
       "      <td>10.1</td>\n",
       "      <td>17.9</td>\n",
       "      <td>2.20</td>\n",
       "      <td>75.88</td>\n",
       "    </tr>\n",
       "    <tr>\n",
       "      <th>2</th>\n",
       "      <td>67376</td>\n",
       "      <td>1.731947</td>\n",
       "      <td>3853406</td>\n",
       "      <td>83883</td>\n",
       "      <td>1380004385</td>\n",
       "      <td>450.419</td>\n",
       "      <td>28.2</td>\n",
       "      <td>5.989</td>\n",
       "      <td>3.414</td>\n",
       "      <td>6426.674</td>\n",
       "      <td>21.2</td>\n",
       "      <td>282.280</td>\n",
       "      <td>10.39</td>\n",
       "      <td>1.9</td>\n",
       "      <td>20.6</td>\n",
       "      <td>0.53</td>\n",
       "      <td>69.66</td>\n",
       "    </tr>\n",
       "    <tr>\n",
       "      <th>3</th>\n",
       "      <td>65816</td>\n",
       "      <td>1.800513</td>\n",
       "      <td>610957</td>\n",
       "      <td>4921</td>\n",
       "      <td>128932753</td>\n",
       "      <td>66.444</td>\n",
       "      <td>29.3</td>\n",
       "      <td>6.857</td>\n",
       "      <td>4.321</td>\n",
       "      <td>17336.469</td>\n",
       "      <td>2.5</td>\n",
       "      <td>152.783</td>\n",
       "      <td>13.06</td>\n",
       "      <td>6.9</td>\n",
       "      <td>21.4</td>\n",
       "      <td>1.38</td>\n",
       "      <td>75.05</td>\n",
       "    </tr>\n",
       "    <tr>\n",
       "      <th>4</th>\n",
       "      <td>41514</td>\n",
       "      <td>2.042228</td>\n",
       "      <td>338676</td>\n",
       "      <td>1508</td>\n",
       "      <td>67886004</td>\n",
       "      <td>272.898</td>\n",
       "      <td>40.8</td>\n",
       "      <td>18.517</td>\n",
       "      <td>12.527</td>\n",
       "      <td>39753.244</td>\n",
       "      <td>0.2</td>\n",
       "      <td>122.137</td>\n",
       "      <td>4.28</td>\n",
       "      <td>20.0</td>\n",
       "      <td>24.7</td>\n",
       "      <td>2.54</td>\n",
       "      <td>81.32</td>\n",
       "    </tr>\n",
       "  </tbody>\n",
       "</table>\n",
       "</div>"
      ],
      "text/plain": [
       "   total_deaths        R0  total_cases  new_cases  population  \\\n",
       "0        185744  2.465409      6114406      38754   331002647   \n",
       "1        123780  2.000668      3997865      46934   212559409   \n",
       "2         67376  1.731947      3853406      83883  1380004385   \n",
       "3         65816  1.800513       610957       4921   128932753   \n",
       "4         41514  2.042228       338676       1508    67886004   \n",
       "\n",
       "   population_density  median_age  aged_65_older  aged_70_older  \\\n",
       "0              35.608        38.3         15.413          9.732   \n",
       "1              25.040        33.5          8.552          5.060   \n",
       "2             450.419        28.2          5.989          3.414   \n",
       "3              66.444        29.3          6.857          4.321   \n",
       "4             272.898        40.8         18.517         12.527   \n",
       "\n",
       "   gdp_per_capita  extreme_poverty  cardiovasc_death_rate  \\\n",
       "0       54225.446              1.2                151.089   \n",
       "1       14103.452              3.4                177.961   \n",
       "2        6426.674             21.2                282.280   \n",
       "3       17336.469              2.5                152.783   \n",
       "4       39753.244              0.2                122.137   \n",
       "\n",
       "   diabetes_prevalence  female_smokers  male_smokers  \\\n",
       "0                10.79            19.1          24.6   \n",
       "1                 8.11            10.1          17.9   \n",
       "2                10.39             1.9          20.6   \n",
       "3                13.06             6.9          21.4   \n",
       "4                 4.28            20.0          24.7   \n",
       "\n",
       "   hospital_beds_per_thousand  life_expectancy  \n",
       "0                        2.77            78.86  \n",
       "1                        2.20            75.88  \n",
       "2                        0.53            69.66  \n",
       "3                        1.38            75.05  \n",
       "4                        2.54            81.32  "
      ]
     },
     "execution_count": 10,
     "metadata": {},
     "output_type": "execute_result"
    }
   ],
   "source": [
    "df_numerical.head()"
   ]
  },
  {
   "cell_type": "code",
   "execution_count": 11,
   "metadata": {},
   "outputs": [],
   "source": [
    "\n",
    "y_train_reg = df_numerical['total_deaths']\n",
    "x_train_reg = df_numerical.iloc[:,1:]\n",
    "x_test=x_train_reg.iloc[2:3,:]"
   ]
  },
  {
   "cell_type": "code",
   "execution_count": 12,
   "metadata": {},
   "outputs": [
    {
     "data": {
      "text/html": [
       "<div>\n",
       "<style scoped>\n",
       "    .dataframe tbody tr th:only-of-type {\n",
       "        vertical-align: middle;\n",
       "    }\n",
       "\n",
       "    .dataframe tbody tr th {\n",
       "        vertical-align: top;\n",
       "    }\n",
       "\n",
       "    .dataframe thead th {\n",
       "        text-align: right;\n",
       "    }\n",
       "</style>\n",
       "<table border=\"1\" class=\"dataframe\">\n",
       "  <thead>\n",
       "    <tr style=\"text-align: right;\">\n",
       "      <th></th>\n",
       "      <th>R0</th>\n",
       "      <th>total_cases</th>\n",
       "      <th>new_cases</th>\n",
       "      <th>population</th>\n",
       "      <th>population_density</th>\n",
       "      <th>median_age</th>\n",
       "      <th>aged_65_older</th>\n",
       "      <th>aged_70_older</th>\n",
       "      <th>gdp_per_capita</th>\n",
       "      <th>extreme_poverty</th>\n",
       "      <th>cardiovasc_death_rate</th>\n",
       "      <th>diabetes_prevalence</th>\n",
       "      <th>female_smokers</th>\n",
       "      <th>male_smokers</th>\n",
       "      <th>hospital_beds_per_thousand</th>\n",
       "      <th>life_expectancy</th>\n",
       "    </tr>\n",
       "  </thead>\n",
       "  <tbody>\n",
       "    <tr>\n",
       "      <th>0</th>\n",
       "      <td>2.465409</td>\n",
       "      <td>6114406</td>\n",
       "      <td>38754</td>\n",
       "      <td>331002647</td>\n",
       "      <td>35.608</td>\n",
       "      <td>38.3</td>\n",
       "      <td>15.413</td>\n",
       "      <td>9.732</td>\n",
       "      <td>54225.446</td>\n",
       "      <td>1.2</td>\n",
       "      <td>151.089</td>\n",
       "      <td>10.79</td>\n",
       "      <td>19.1</td>\n",
       "      <td>24.6</td>\n",
       "      <td>2.77</td>\n",
       "      <td>78.86</td>\n",
       "    </tr>\n",
       "    <tr>\n",
       "      <th>1</th>\n",
       "      <td>2.000668</td>\n",
       "      <td>3997865</td>\n",
       "      <td>46934</td>\n",
       "      <td>212559409</td>\n",
       "      <td>25.040</td>\n",
       "      <td>33.5</td>\n",
       "      <td>8.552</td>\n",
       "      <td>5.060</td>\n",
       "      <td>14103.452</td>\n",
       "      <td>3.4</td>\n",
       "      <td>177.961</td>\n",
       "      <td>8.11</td>\n",
       "      <td>10.1</td>\n",
       "      <td>17.9</td>\n",
       "      <td>2.20</td>\n",
       "      <td>75.88</td>\n",
       "    </tr>\n",
       "    <tr>\n",
       "      <th>2</th>\n",
       "      <td>1.731947</td>\n",
       "      <td>3853406</td>\n",
       "      <td>83883</td>\n",
       "      <td>1380004385</td>\n",
       "      <td>450.419</td>\n",
       "      <td>28.2</td>\n",
       "      <td>5.989</td>\n",
       "      <td>3.414</td>\n",
       "      <td>6426.674</td>\n",
       "      <td>21.2</td>\n",
       "      <td>282.280</td>\n",
       "      <td>10.39</td>\n",
       "      <td>1.9</td>\n",
       "      <td>20.6</td>\n",
       "      <td>0.53</td>\n",
       "      <td>69.66</td>\n",
       "    </tr>\n",
       "    <tr>\n",
       "      <th>3</th>\n",
       "      <td>1.800513</td>\n",
       "      <td>610957</td>\n",
       "      <td>4921</td>\n",
       "      <td>128932753</td>\n",
       "      <td>66.444</td>\n",
       "      <td>29.3</td>\n",
       "      <td>6.857</td>\n",
       "      <td>4.321</td>\n",
       "      <td>17336.469</td>\n",
       "      <td>2.5</td>\n",
       "      <td>152.783</td>\n",
       "      <td>13.06</td>\n",
       "      <td>6.9</td>\n",
       "      <td>21.4</td>\n",
       "      <td>1.38</td>\n",
       "      <td>75.05</td>\n",
       "    </tr>\n",
       "    <tr>\n",
       "      <th>4</th>\n",
       "      <td>2.042228</td>\n",
       "      <td>338676</td>\n",
       "      <td>1508</td>\n",
       "      <td>67886004</td>\n",
       "      <td>272.898</td>\n",
       "      <td>40.8</td>\n",
       "      <td>18.517</td>\n",
       "      <td>12.527</td>\n",
       "      <td>39753.244</td>\n",
       "      <td>0.2</td>\n",
       "      <td>122.137</td>\n",
       "      <td>4.28</td>\n",
       "      <td>20.0</td>\n",
       "      <td>24.7</td>\n",
       "      <td>2.54</td>\n",
       "      <td>81.32</td>\n",
       "    </tr>\n",
       "  </tbody>\n",
       "</table>\n",
       "</div>"
      ],
      "text/plain": [
       "         R0  total_cases  new_cases  population  population_density  \\\n",
       "0  2.465409      6114406      38754   331002647              35.608   \n",
       "1  2.000668      3997865      46934   212559409              25.040   \n",
       "2  1.731947      3853406      83883  1380004385             450.419   \n",
       "3  1.800513       610957       4921   128932753              66.444   \n",
       "4  2.042228       338676       1508    67886004             272.898   \n",
       "\n",
       "   median_age  aged_65_older  aged_70_older  gdp_per_capita  extreme_poverty  \\\n",
       "0        38.3         15.413          9.732       54225.446              1.2   \n",
       "1        33.5          8.552          5.060       14103.452              3.4   \n",
       "2        28.2          5.989          3.414        6426.674             21.2   \n",
       "3        29.3          6.857          4.321       17336.469              2.5   \n",
       "4        40.8         18.517         12.527       39753.244              0.2   \n",
       "\n",
       "   cardiovasc_death_rate  diabetes_prevalence  female_smokers  male_smokers  \\\n",
       "0                151.089                10.79            19.1          24.6   \n",
       "1                177.961                 8.11            10.1          17.9   \n",
       "2                282.280                10.39             1.9          20.6   \n",
       "3                152.783                13.06             6.9          21.4   \n",
       "4                122.137                 4.28            20.0          24.7   \n",
       "\n",
       "   hospital_beds_per_thousand  life_expectancy  \n",
       "0                        2.77            78.86  \n",
       "1                        2.20            75.88  \n",
       "2                        0.53            69.66  \n",
       "3                        1.38            75.05  \n",
       "4                        2.54            81.32  "
      ]
     },
     "execution_count": 12,
     "metadata": {},
     "output_type": "execute_result"
    }
   ],
   "source": [
    "x_train_reg.head()"
   ]
  },
  {
   "cell_type": "code",
   "execution_count": 13,
   "metadata": {},
   "outputs": [
    {
     "data": {
      "text/html": [
       "<div>\n",
       "<style scoped>\n",
       "    .dataframe tbody tr th:only-of-type {\n",
       "        vertical-align: middle;\n",
       "    }\n",
       "\n",
       "    .dataframe tbody tr th {\n",
       "        vertical-align: top;\n",
       "    }\n",
       "\n",
       "    .dataframe thead th {\n",
       "        text-align: right;\n",
       "    }\n",
       "</style>\n",
       "<table border=\"1\" class=\"dataframe\">\n",
       "  <thead>\n",
       "    <tr style=\"text-align: right;\">\n",
       "      <th></th>\n",
       "      <th>R0</th>\n",
       "      <th>total_cases</th>\n",
       "      <th>new_cases</th>\n",
       "      <th>population</th>\n",
       "      <th>population_density</th>\n",
       "      <th>median_age</th>\n",
       "      <th>aged_65_older</th>\n",
       "      <th>aged_70_older</th>\n",
       "      <th>gdp_per_capita</th>\n",
       "      <th>extreme_poverty</th>\n",
       "      <th>cardiovasc_death_rate</th>\n",
       "      <th>diabetes_prevalence</th>\n",
       "      <th>female_smokers</th>\n",
       "      <th>male_smokers</th>\n",
       "      <th>hospital_beds_per_thousand</th>\n",
       "      <th>life_expectancy</th>\n",
       "    </tr>\n",
       "  </thead>\n",
       "  <tbody>\n",
       "    <tr>\n",
       "      <th>2</th>\n",
       "      <td>1.731947</td>\n",
       "      <td>3853406</td>\n",
       "      <td>83883</td>\n",
       "      <td>1380004385</td>\n",
       "      <td>450.419</td>\n",
       "      <td>28.2</td>\n",
       "      <td>5.989</td>\n",
       "      <td>3.414</td>\n",
       "      <td>6426.674</td>\n",
       "      <td>21.2</td>\n",
       "      <td>282.28</td>\n",
       "      <td>10.39</td>\n",
       "      <td>1.9</td>\n",
       "      <td>20.6</td>\n",
       "      <td>0.53</td>\n",
       "      <td>69.66</td>\n",
       "    </tr>\n",
       "  </tbody>\n",
       "</table>\n",
       "</div>"
      ],
      "text/plain": [
       "         R0  total_cases  new_cases  population  population_density  \\\n",
       "2  1.731947      3853406      83883  1380004385             450.419   \n",
       "\n",
       "   median_age  aged_65_older  aged_70_older  gdp_per_capita  extreme_poverty  \\\n",
       "2        28.2          5.989          3.414        6426.674             21.2   \n",
       "\n",
       "   cardiovasc_death_rate  diabetes_prevalence  female_smokers  male_smokers  \\\n",
       "2                 282.28                10.39             1.9          20.6   \n",
       "\n",
       "   hospital_beds_per_thousand  life_expectancy  \n",
       "2                        0.53            69.66  "
      ]
     },
     "execution_count": 13,
     "metadata": {},
     "output_type": "execute_result"
    }
   ],
   "source": [
    "x_test"
   ]
  },
  {
   "cell_type": "code",
   "execution_count": 14,
   "metadata": {},
   "outputs": [
    {
     "data": {
      "text/plain": [
       "array([72393.51184758])"
      ]
     },
     "execution_count": 14,
     "metadata": {},
     "output_type": "execute_result"
    }
   ],
   "source": [
    "from sklearn.linear_model import ElasticNet\n",
    "\n",
    "en_reg = ElasticNet(random_state=0)\n",
    "en_reg.fit(x_train_reg,y_train_reg)\n",
    "\n",
    "en_reg.predict(x_test)"
   ]
  },
  {
   "cell_type": "code",
   "execution_count": 18,
   "metadata": {},
   "outputs": [],
   "source": [
    "def dictionary(df,location):\n",
    "    df_location=df[df['location']==location]\n",
    "    df_location=df_location.iloc[:,3:]\n",
    "\n",
    "    df_location_dict=df_location.to_dict('records')\n",
    "    \n",
    "    return df_location_dict"
   ]
  },
  {
   "cell_type": "code",
   "execution_count": 19,
   "metadata": {},
   "outputs": [],
   "source": [
    "location=\"India\"\n",
    "df_location_dict=dictionary(df,location)"
   ]
  },
  {
   "cell_type": "code",
   "execution_count": 20,
   "metadata": {},
   "outputs": [
    {
     "data": {
      "text/plain": [
       "[{'R0': 1.73194668151632,\n",
       "  'total_cases': 3853406,\n",
       "  'new_cases': 83883,\n",
       "  'population': 1380004385,\n",
       "  'population_density': 450.419,\n",
       "  'median_age': 28.2,\n",
       "  'aged_65_older': 5.989,\n",
       "  'aged_70_older': 3.414,\n",
       "  'gdp_per_capita': 6426.674,\n",
       "  'extreme_poverty': 21.2,\n",
       "  'cardiovasc_death_rate': 282.28,\n",
       "  'diabetes_prevalence': 10.39,\n",
       "  'female_smokers': 1.9,\n",
       "  'male_smokers': 20.6,\n",
       "  'hospital_beds_per_thousand': 0.53,\n",
       "  'life_expectancy': 69.66}]"
      ]
     },
     "execution_count": 20,
     "metadata": {},
     "output_type": "execute_result"
    }
   ],
   "source": [
    "df_location_dict"
   ]
  },
  {
   "cell_type": "code",
   "execution_count": 21,
   "metadata": {},
   "outputs": [],
   "source": [
    "death_old=en_reg.intercept_\n",
    "k=0\n",
    "for i in df_location_dict[0].values():\n",
    "    death_old=death_old+(i*en_reg.coef_[k])\n",
    "    k=k+1"
   ]
  },
  {
   "cell_type": "code",
   "execution_count": 22,
   "metadata": {},
   "outputs": [
    {
     "data": {
      "text/plain": [
       "72393.5118475761"
      ]
     },
     "execution_count": 22,
     "metadata": {},
     "output_type": "execute_result"
    }
   ],
   "source": [
    "death_old"
   ]
  },
  {
   "cell_type": "code",
   "execution_count": null,
   "metadata": {},
   "outputs": [],
   "source": [
    "total_death_original=67376"
   ]
  },
  {
   "cell_type": "code",
   "execution_count": 27,
   "metadata": {},
   "outputs": [
    {
     "data": {
      "text/plain": [
       "5017"
      ]
     },
     "execution_count": 27,
     "metadata": {},
     "output_type": "execute_result"
    }
   ],
   "source": [
    "72393-67376"
   ]
  },
  {
   "cell_type": "code",
   "execution_count": 79,
   "metadata": {},
   "outputs": [],
   "source": [
    "def simulation(parameter,change,by,df_location_dict,death_old):\n",
    "    df_location_dict_copy=df_location_dict.copy()\n",
    "    for x in range(len(parameter)):\n",
    "        if change[x]=='increase':\n",
    "            df_location_dict_copy[parameter[x]]=(df_location_dict[parameter[x]]+(by[x]/100)*df_location_dict[parameter[x]])\n",
    "        else:\n",
    "            df_location_dict_copy[parameter[x]]=(df_location_dict[parameter[x]]-(by[x]/100)*df_location_dict[parameter[x]])\n",
    "     \n",
    "    death_new=en_reg.intercept_\n",
    "    k=0\n",
    "    #print(df_location_dict_copy)\n",
    "    for i in df_location_dict_copy.values():\n",
    "        death_new=death_new+(i*en_reg.coef_[k])\n",
    "        k=k+1\n",
    "    if death_new>death_old:\n",
    "        c=\"increased\"\n",
    "    else:\n",
    "        c=\"decreased\"\n",
    "    \n",
    "    death_change=round(((abs(death_new-death_old)/death_old)*100),2)\n",
    "    if len(parameter)==1:\n",
    "        print(\"If \" +parameter[0]+\" \"+ change[0]+\" by \"+ str(by[0]) +\"% i.e. from \" + str(df_location_dict[parameter[0]]) +\" to \"+str(df_location_dict_copy[parameter[0]])+ \", then death will be \"+ c +\" by \"+str(death_change)+\"% i.e. from \"+str(int(death_old))+\" to \"+str(int(death_new))+\" (count=\"+str(int(abs(death_new-death_old)))+ \")\")\n",
    "    else:\n",
    "        s=\"\"\n",
    "        for i in range(len(parameter)):\n",
    "            s=s+parameter[i]+\" \"+ change[i]+\" by \"+ str(by[i]) +\"% i.e. from \" + str(df_location_dict[parameter[i]]) +\" to \"+str(df_location_dict_copy[parameter[i]])+\" ,\"\n",
    "        print(\"If \" +s+\" then death will be \"+ c +\" by \"+str(death_change)+\"% i.e. from \"+str(int(death_old))+\" to \"+str(int(death_new))+\" (count=\"+str(int(abs(death_new-death_old)))+ \")\")"
   ]
  },
  {
   "cell_type": "code",
   "execution_count": 80,
   "metadata": {},
   "outputs": [
    {
     "name": "stdout",
     "output_type": "stream",
     "text": [
      "If hospital_beds_per_thousand decrease by 30% i.e. from 0.53 to 0.371 ,diabetes_prevalence increase by 20% i.e. from 10.39 to 12.468 ,median_age increase by 10% i.e. from 28.2 to 31.02 ,total_cases increase by 10% i.e. from 3853406 to 4238746.6 ,aged_70_older increase by 20% i.e. from 3.414 to 4.0968 ,extreme_poverty decrease by 30% i.e. from 21.2 to 14.84 ,female_smokers decreaase by 10% i.e. from 1.9 to 1.71 ,male_smokers decrease by 20% i.e. from 20.6 to 16.48 ,R0 decrease by 10% i.e. from 1.73194668151632 to 1.558752013364688 , then death will be increased by 23.42% i.e. from 72393 to 89347 (count=16953)\n"
     ]
    }
   ],
   "source": [
    "parameter=['hospital_beds_per_thousand','diabetes_prevalence','median_age','total_cases','aged_70_older','extreme_poverty','female_smokers','male_smokers','R0']\n",
    "change=['decrease','increase','increase','increase','increase','decrease','decreaase','decrease','decrease']\n",
    "by=[30,20,10,10,20,30,10,20,10]\n",
    "simulation(parameter,change,by,df_location_dict[0],death_old)"
   ]
  },
  {
   "cell_type": "markdown",
   "metadata": {},
   "source": [
    "Important features:\n",
    "* diabetes_prevalence\n",
    "* hospital_beds_per_thousand\n",
    "* median_age\n",
    "* total_cases\n",
    "* aged_70_older\n",
    "* extreme_poverty\n",
    "* female_smokers\n",
    "* male_smokers\n",
    "* R0"
   ]
  },
  {
   "cell_type": "code",
   "execution_count": null,
   "metadata": {},
   "outputs": [],
   "source": []
  },
  {
   "cell_type": "code",
   "execution_count": 32,
   "metadata": {},
   "outputs": [
    {
     "data": {
      "text/plain": [
       "0.371"
      ]
     },
     "execution_count": 32,
     "metadata": {},
     "output_type": "execute_result"
    }
   ],
   "source": [
    "0.53-(0.53*.3)"
   ]
  },
  {
   "cell_type": "code",
   "execution_count": 81,
   "metadata": {},
   "outputs": [],
   "source": [
    "intercept=en_reg.intercept_\n",
    "R0_coef=en_reg.coef_[0]\n",
    "total_cases_coef=en_reg.coef_[1]\n",
    "new_cases_coef=en_reg.coef_[2]\n",
    "population_coef=en_reg.coef_[3]\n",
    "population_density_coef=en_reg.coef_[4]\n",
    "median_age_coef=en_reg.coef_[5]\n",
    "aged_65_older_coef=en_reg.coef_[6]\n",
    "aged_70_older_coef=en_reg.coef_[7]\n",
    "gdp_per_capita_coef=en_reg.coef_[8]\n",
    "extreme_poverty_coef=en_reg.coef_[9]\n",
    "cardiovasc_death_rate_coef=en_reg.coef_[10]\n",
    "diabetes_prevalence_coef=en_reg.coef_[11]\n",
    "female_smokers_coef=en_reg.coef_[12]\n",
    "male_smokers_coef=en_reg.coef_[13]\n",
    "hospital_beds_per_thousand_coef=en_reg.coef_[14]\n",
    "life_expectancy_coef=en_reg.coef_[15]"
   ]
  },
  {
   "cell_type": "code",
   "execution_count": 85,
   "metadata": {},
   "outputs": [],
   "source": [
    "R0=1.558752013364688\n",
    "total_cases=4238746.6\n",
    "new_cases=83883\n",
    "population=1380004385\n",
    "population_density=450.419\n",
    "median_age=31.02\n",
    "aged_65_older=5.989\n",
    "aged_70_older=4.0968\n",
    "gdp_per_capita=6426.674\n",
    "extreme_poverty=14.84\n",
    "cardiovasc_death_rate=282.28\n",
    "diabetes_prevalence=12.468\n",
    "female_smokers=1.71 \n",
    "male_smokers=16.48\n",
    "hospital_beds_per_thousand=0.37\n",
    "life_expectancy=69.66"
   ]
  },
  {
   "cell_type": "code",
   "execution_count": 86,
   "metadata": {},
   "outputs": [],
   "source": [
    "death=intercept+(R0_coef*R0)+(total_cases_coef*total_cases)+(new_cases_coef*new_cases)+(population_coef*population)+(population_density_coef*population_density)+(median_age_coef*median_age)+(aged_65_older_coef*aged_65_older)+(aged_70_older_coef*aged_70_older)+(gdp_per_capita_coef*gdp_per_capita)+(extreme_poverty_coef*extreme_poverty)+(cardiovasc_death_rate_coef*cardiovasc_death_rate)+(diabetes_prevalence_coef*diabetes_prevalence)+(female_smokers_coef*female_smokers)+(male_smokers_coef*male_smokers)+(hospital_beds_per_thousand_coef*hospital_beds_per_thousand)+(life_expectancy_coef*life_expectancy)"
   ]
  },
  {
   "cell_type": "code",
   "execution_count": 87,
   "metadata": {},
   "outputs": [
    {
     "data": {
      "text/plain": [
       "89347.81314527182"
      ]
     },
     "execution_count": 87,
     "metadata": {},
     "output_type": "execute_result"
    }
   ],
   "source": [
    "death"
   ]
  },
  {
   "cell_type": "code",
   "execution_count": null,
   "metadata": {},
   "outputs": [],
   "source": [
    "72393"
   ]
  },
  {
   "cell_type": "code",
   "execution_count": 88,
   "metadata": {},
   "outputs": [
    {
     "data": {
      "text/plain": [
       "0.23419391377619383"
      ]
     },
     "execution_count": 88,
     "metadata": {},
     "output_type": "execute_result"
    }
   ],
   "source": [
    "(89347-72393)/72393"
   ]
  },
  {
   "cell_type": "code",
   "execution_count": null,
   "metadata": {},
   "outputs": [],
   "source": []
  },
  {
   "cell_type": "code",
   "execution_count": null,
   "metadata": {},
   "outputs": [],
   "source": []
  },
  {
   "cell_type": "code",
   "execution_count": null,
   "metadata": {},
   "outputs": [],
   "source": []
  }
 ],
 "metadata": {
  "kernelspec": {
   "display_name": "Python 3",
   "language": "python",
   "name": "python3"
  },
  "language_info": {
   "codemirror_mode": {
    "name": "ipython",
    "version": 3
   },
   "file_extension": ".py",
   "mimetype": "text/x-python",
   "name": "python",
   "nbconvert_exporter": "python",
   "pygments_lexer": "ipython3",
   "version": "3.8.3"
  }
 },
 "nbformat": 4,
 "nbformat_minor": 4
}
