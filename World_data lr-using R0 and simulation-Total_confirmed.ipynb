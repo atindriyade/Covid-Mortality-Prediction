{
 "cells": [
  {
   "cell_type": "code",
   "execution_count": 86,
   "metadata": {},
   "outputs": [],
   "source": [
    "import pandas as pd\n",
    "import matplotlib.pyplot as plt\n",
    "import numpy as np\n",
    "from sklearn import linear_model\n",
    "from sklearn.linear_model import LinearRegression"
   ]
  },
  {
   "cell_type": "code",
   "execution_count": 87,
   "metadata": {},
   "outputs": [],
   "source": [
    "import warnings\n",
    "warnings.filterwarnings('ignore')"
   ]
  },
  {
   "cell_type": "code",
   "execution_count": 88,
   "metadata": {},
   "outputs": [],
   "source": [
    "df=pd.read_excel(\"77countries.xlsx\")\n"
   ]
  },
  {
   "cell_type": "code",
   "execution_count": 89,
   "metadata": {},
   "outputs": [
    {
     "data": {
      "text/html": [
       "<div>\n",
       "<style scoped>\n",
       "    .dataframe tbody tr th:only-of-type {\n",
       "        vertical-align: middle;\n",
       "    }\n",
       "\n",
       "    .dataframe tbody tr th {\n",
       "        vertical-align: top;\n",
       "    }\n",
       "\n",
       "    .dataframe thead th {\n",
       "        text-align: right;\n",
       "    }\n",
       "</style>\n",
       "<table border=\"1\" class=\"dataframe\">\n",
       "  <thead>\n",
       "    <tr style=\"text-align: right;\">\n",
       "      <th></th>\n",
       "      <th>continent</th>\n",
       "      <th>location</th>\n",
       "      <th>total_deaths</th>\n",
       "      <th>R0</th>\n",
       "      <th>total_cases</th>\n",
       "      <th>new_cases</th>\n",
       "      <th>population</th>\n",
       "      <th>population_density</th>\n",
       "      <th>median_age</th>\n",
       "      <th>aged_65_older</th>\n",
       "      <th>aged_70_older</th>\n",
       "      <th>gdp_per_capita</th>\n",
       "      <th>extreme_poverty</th>\n",
       "      <th>cardiovasc_death_rate</th>\n",
       "      <th>diabetes_prevalence</th>\n",
       "      <th>female_smokers</th>\n",
       "      <th>male_smokers</th>\n",
       "      <th>hospital_beds_per_thousand</th>\n",
       "      <th>life_expectancy</th>\n",
       "    </tr>\n",
       "  </thead>\n",
       "  <tbody>\n",
       "    <tr>\n",
       "      <th>0</th>\n",
       "      <td>North America</td>\n",
       "      <td>United States</td>\n",
       "      <td>185744</td>\n",
       "      <td>2.465409</td>\n",
       "      <td>6114406</td>\n",
       "      <td>38754</td>\n",
       "      <td>331002647</td>\n",
       "      <td>35.608</td>\n",
       "      <td>38.3</td>\n",
       "      <td>15.413</td>\n",
       "      <td>9.732</td>\n",
       "      <td>54225.446</td>\n",
       "      <td>1.2</td>\n",
       "      <td>151.089</td>\n",
       "      <td>10.79</td>\n",
       "      <td>19.1</td>\n",
       "      <td>24.6</td>\n",
       "      <td>2.77</td>\n",
       "      <td>78.86</td>\n",
       "    </tr>\n",
       "    <tr>\n",
       "      <th>1</th>\n",
       "      <td>South America</td>\n",
       "      <td>Brazil</td>\n",
       "      <td>123780</td>\n",
       "      <td>2.000668</td>\n",
       "      <td>3997865</td>\n",
       "      <td>46934</td>\n",
       "      <td>212559409</td>\n",
       "      <td>25.040</td>\n",
       "      <td>33.5</td>\n",
       "      <td>8.552</td>\n",
       "      <td>5.060</td>\n",
       "      <td>14103.452</td>\n",
       "      <td>3.4</td>\n",
       "      <td>177.961</td>\n",
       "      <td>8.11</td>\n",
       "      <td>10.1</td>\n",
       "      <td>17.9</td>\n",
       "      <td>2.20</td>\n",
       "      <td>75.88</td>\n",
       "    </tr>\n",
       "    <tr>\n",
       "      <th>2</th>\n",
       "      <td>Asia</td>\n",
       "      <td>India</td>\n",
       "      <td>67376</td>\n",
       "      <td>1.731947</td>\n",
       "      <td>3853406</td>\n",
       "      <td>83883</td>\n",
       "      <td>1380004385</td>\n",
       "      <td>450.419</td>\n",
       "      <td>28.2</td>\n",
       "      <td>5.989</td>\n",
       "      <td>3.414</td>\n",
       "      <td>6426.674</td>\n",
       "      <td>21.2</td>\n",
       "      <td>282.280</td>\n",
       "      <td>10.39</td>\n",
       "      <td>1.9</td>\n",
       "      <td>20.6</td>\n",
       "      <td>0.53</td>\n",
       "      <td>69.66</td>\n",
       "    </tr>\n",
       "    <tr>\n",
       "      <th>3</th>\n",
       "      <td>North America</td>\n",
       "      <td>Mexico</td>\n",
       "      <td>65816</td>\n",
       "      <td>1.800513</td>\n",
       "      <td>610957</td>\n",
       "      <td>4921</td>\n",
       "      <td>128932753</td>\n",
       "      <td>66.444</td>\n",
       "      <td>29.3</td>\n",
       "      <td>6.857</td>\n",
       "      <td>4.321</td>\n",
       "      <td>17336.469</td>\n",
       "      <td>2.5</td>\n",
       "      <td>152.783</td>\n",
       "      <td>13.06</td>\n",
       "      <td>6.9</td>\n",
       "      <td>21.4</td>\n",
       "      <td>1.38</td>\n",
       "      <td>75.05</td>\n",
       "    </tr>\n",
       "    <tr>\n",
       "      <th>4</th>\n",
       "      <td>Europe</td>\n",
       "      <td>United Kingdom</td>\n",
       "      <td>41514</td>\n",
       "      <td>2.042228</td>\n",
       "      <td>338676</td>\n",
       "      <td>1508</td>\n",
       "      <td>67886004</td>\n",
       "      <td>272.898</td>\n",
       "      <td>40.8</td>\n",
       "      <td>18.517</td>\n",
       "      <td>12.527</td>\n",
       "      <td>39753.244</td>\n",
       "      <td>0.2</td>\n",
       "      <td>122.137</td>\n",
       "      <td>4.28</td>\n",
       "      <td>20.0</td>\n",
       "      <td>24.7</td>\n",
       "      <td>2.54</td>\n",
       "      <td>81.32</td>\n",
       "    </tr>\n",
       "  </tbody>\n",
       "</table>\n",
       "</div>"
      ],
      "text/plain": [
       "       continent        location  total_deaths        R0  total_cases  \\\n",
       "0  North America   United States        185744  2.465409      6114406   \n",
       "1  South America          Brazil        123780  2.000668      3997865   \n",
       "2           Asia           India         67376  1.731947      3853406   \n",
       "3  North America          Mexico         65816  1.800513       610957   \n",
       "4         Europe  United Kingdom         41514  2.042228       338676   \n",
       "\n",
       "   new_cases  population  population_density  median_age  aged_65_older  \\\n",
       "0      38754   331002647              35.608        38.3         15.413   \n",
       "1      46934   212559409              25.040        33.5          8.552   \n",
       "2      83883  1380004385             450.419        28.2          5.989   \n",
       "3       4921   128932753              66.444        29.3          6.857   \n",
       "4       1508    67886004             272.898        40.8         18.517   \n",
       "\n",
       "   aged_70_older  gdp_per_capita  extreme_poverty  cardiovasc_death_rate  \\\n",
       "0          9.732       54225.446              1.2                151.089   \n",
       "1          5.060       14103.452              3.4                177.961   \n",
       "2          3.414        6426.674             21.2                282.280   \n",
       "3          4.321       17336.469              2.5                152.783   \n",
       "4         12.527       39753.244              0.2                122.137   \n",
       "\n",
       "   diabetes_prevalence  female_smokers  male_smokers  \\\n",
       "0                10.79            19.1          24.6   \n",
       "1                 8.11            10.1          17.9   \n",
       "2                10.39             1.9          20.6   \n",
       "3                13.06             6.9          21.4   \n",
       "4                 4.28            20.0          24.7   \n",
       "\n",
       "   hospital_beds_per_thousand  life_expectancy  \n",
       "0                        2.77            78.86  \n",
       "1                        2.20            75.88  \n",
       "2                        0.53            69.66  \n",
       "3                        1.38            75.05  \n",
       "4                        2.54            81.32  "
      ]
     },
     "execution_count": 89,
     "metadata": {},
     "output_type": "execute_result"
    }
   ],
   "source": [
    "df.head()"
   ]
  },
  {
   "cell_type": "code",
   "execution_count": 90,
   "metadata": {},
   "outputs": [
    {
     "name": "stdout",
     "output_type": "stream",
     "text": [
      "<class 'pandas.core.frame.DataFrame'>\n",
      "RangeIndex: 77 entries, 0 to 76\n",
      "Data columns (total 19 columns):\n",
      " #   Column                      Non-Null Count  Dtype  \n",
      "---  ------                      --------------  -----  \n",
      " 0   continent                   77 non-null     object \n",
      " 1   location                    77 non-null     object \n",
      " 2   total_deaths                77 non-null     int64  \n",
      " 3   R0                          77 non-null     float64\n",
      " 4   total_cases                 77 non-null     int64  \n",
      " 5   new_cases                   77 non-null     int64  \n",
      " 6   population                  77 non-null     int64  \n",
      " 7   population_density          77 non-null     float64\n",
      " 8   median_age                  77 non-null     float64\n",
      " 9   aged_65_older               77 non-null     float64\n",
      " 10  aged_70_older               76 non-null     float64\n",
      " 11  gdp_per_capita              77 non-null     float64\n",
      " 12  extreme_poverty             58 non-null     float64\n",
      " 13  cardiovasc_death_rate       77 non-null     float64\n",
      " 14  diabetes_prevalence         77 non-null     float64\n",
      " 15  female_smokers              72 non-null     float64\n",
      " 16  male_smokers                70 non-null     float64\n",
      " 17  hospital_beds_per_thousand  75 non-null     float64\n",
      " 18  life_expectancy             77 non-null     float64\n",
      "dtypes: float64(13), int64(4), object(2)\n",
      "memory usage: 11.6+ KB\n",
      "None\n"
     ]
    }
   ],
   "source": [
    "print(df.info())"
   ]
  },
  {
   "cell_type": "code",
   "execution_count": 91,
   "metadata": {},
   "outputs": [],
   "source": [
    "df.dropna(inplace=True)"
   ]
  },
  {
   "cell_type": "code",
   "execution_count": 92,
   "metadata": {},
   "outputs": [
    {
     "data": {
      "text/plain": [
       "(51, 19)"
      ]
     },
     "execution_count": 92,
     "metadata": {},
     "output_type": "execute_result"
    }
   ],
   "source": [
    "df.shape"
   ]
  },
  {
   "cell_type": "code",
   "execution_count": 93,
   "metadata": {},
   "outputs": [],
   "source": [
    "df_numerical=df.iloc[:,2:]"
   ]
  },
  {
   "cell_type": "code",
   "execution_count": 94,
   "metadata": {},
   "outputs": [
    {
     "data": {
      "text/plain": [
       "(51, 17)"
      ]
     },
     "execution_count": 94,
     "metadata": {},
     "output_type": "execute_result"
    }
   ],
   "source": [
    "df_numerical.shape"
   ]
  },
  {
   "cell_type": "markdown",
   "metadata": {},
   "source": [
    "### Using only Elasticnet regression"
   ]
  },
  {
   "cell_type": "code",
   "execution_count": 95,
   "metadata": {},
   "outputs": [
    {
     "data": {
      "text/html": [
       "<div>\n",
       "<style scoped>\n",
       "    .dataframe tbody tr th:only-of-type {\n",
       "        vertical-align: middle;\n",
       "    }\n",
       "\n",
       "    .dataframe tbody tr th {\n",
       "        vertical-align: top;\n",
       "    }\n",
       "\n",
       "    .dataframe thead th {\n",
       "        text-align: right;\n",
       "    }\n",
       "</style>\n",
       "<table border=\"1\" class=\"dataframe\">\n",
       "  <thead>\n",
       "    <tr style=\"text-align: right;\">\n",
       "      <th></th>\n",
       "      <th>total_deaths</th>\n",
       "      <th>R0</th>\n",
       "      <th>total_cases</th>\n",
       "      <th>new_cases</th>\n",
       "      <th>population</th>\n",
       "      <th>population_density</th>\n",
       "      <th>median_age</th>\n",
       "      <th>aged_65_older</th>\n",
       "      <th>aged_70_older</th>\n",
       "      <th>gdp_per_capita</th>\n",
       "      <th>extreme_poverty</th>\n",
       "      <th>cardiovasc_death_rate</th>\n",
       "      <th>diabetes_prevalence</th>\n",
       "      <th>female_smokers</th>\n",
       "      <th>male_smokers</th>\n",
       "      <th>hospital_beds_per_thousand</th>\n",
       "      <th>life_expectancy</th>\n",
       "    </tr>\n",
       "  </thead>\n",
       "  <tbody>\n",
       "    <tr>\n",
       "      <th>0</th>\n",
       "      <td>185744</td>\n",
       "      <td>2.465409</td>\n",
       "      <td>6114406</td>\n",
       "      <td>38754</td>\n",
       "      <td>331002647</td>\n",
       "      <td>35.608</td>\n",
       "      <td>38.3</td>\n",
       "      <td>15.413</td>\n",
       "      <td>9.732</td>\n",
       "      <td>54225.446</td>\n",
       "      <td>1.2</td>\n",
       "      <td>151.089</td>\n",
       "      <td>10.79</td>\n",
       "      <td>19.1</td>\n",
       "      <td>24.6</td>\n",
       "      <td>2.77</td>\n",
       "      <td>78.86</td>\n",
       "    </tr>\n",
       "    <tr>\n",
       "      <th>1</th>\n",
       "      <td>123780</td>\n",
       "      <td>2.000668</td>\n",
       "      <td>3997865</td>\n",
       "      <td>46934</td>\n",
       "      <td>212559409</td>\n",
       "      <td>25.040</td>\n",
       "      <td>33.5</td>\n",
       "      <td>8.552</td>\n",
       "      <td>5.060</td>\n",
       "      <td>14103.452</td>\n",
       "      <td>3.4</td>\n",
       "      <td>177.961</td>\n",
       "      <td>8.11</td>\n",
       "      <td>10.1</td>\n",
       "      <td>17.9</td>\n",
       "      <td>2.20</td>\n",
       "      <td>75.88</td>\n",
       "    </tr>\n",
       "    <tr>\n",
       "      <th>2</th>\n",
       "      <td>67376</td>\n",
       "      <td>1.731947</td>\n",
       "      <td>3853406</td>\n",
       "      <td>83883</td>\n",
       "      <td>1380004385</td>\n",
       "      <td>450.419</td>\n",
       "      <td>28.2</td>\n",
       "      <td>5.989</td>\n",
       "      <td>3.414</td>\n",
       "      <td>6426.674</td>\n",
       "      <td>21.2</td>\n",
       "      <td>282.280</td>\n",
       "      <td>10.39</td>\n",
       "      <td>1.9</td>\n",
       "      <td>20.6</td>\n",
       "      <td>0.53</td>\n",
       "      <td>69.66</td>\n",
       "    </tr>\n",
       "    <tr>\n",
       "      <th>3</th>\n",
       "      <td>65816</td>\n",
       "      <td>1.800513</td>\n",
       "      <td>610957</td>\n",
       "      <td>4921</td>\n",
       "      <td>128932753</td>\n",
       "      <td>66.444</td>\n",
       "      <td>29.3</td>\n",
       "      <td>6.857</td>\n",
       "      <td>4.321</td>\n",
       "      <td>17336.469</td>\n",
       "      <td>2.5</td>\n",
       "      <td>152.783</td>\n",
       "      <td>13.06</td>\n",
       "      <td>6.9</td>\n",
       "      <td>21.4</td>\n",
       "      <td>1.38</td>\n",
       "      <td>75.05</td>\n",
       "    </tr>\n",
       "    <tr>\n",
       "      <th>4</th>\n",
       "      <td>41514</td>\n",
       "      <td>2.042228</td>\n",
       "      <td>338676</td>\n",
       "      <td>1508</td>\n",
       "      <td>67886004</td>\n",
       "      <td>272.898</td>\n",
       "      <td>40.8</td>\n",
       "      <td>18.517</td>\n",
       "      <td>12.527</td>\n",
       "      <td>39753.244</td>\n",
       "      <td>0.2</td>\n",
       "      <td>122.137</td>\n",
       "      <td>4.28</td>\n",
       "      <td>20.0</td>\n",
       "      <td>24.7</td>\n",
       "      <td>2.54</td>\n",
       "      <td>81.32</td>\n",
       "    </tr>\n",
       "  </tbody>\n",
       "</table>\n",
       "</div>"
      ],
      "text/plain": [
       "   total_deaths        R0  total_cases  new_cases  population  \\\n",
       "0        185744  2.465409      6114406      38754   331002647   \n",
       "1        123780  2.000668      3997865      46934   212559409   \n",
       "2         67376  1.731947      3853406      83883  1380004385   \n",
       "3         65816  1.800513       610957       4921   128932753   \n",
       "4         41514  2.042228       338676       1508    67886004   \n",
       "\n",
       "   population_density  median_age  aged_65_older  aged_70_older  \\\n",
       "0              35.608        38.3         15.413          9.732   \n",
       "1              25.040        33.5          8.552          5.060   \n",
       "2             450.419        28.2          5.989          3.414   \n",
       "3              66.444        29.3          6.857          4.321   \n",
       "4             272.898        40.8         18.517         12.527   \n",
       "\n",
       "   gdp_per_capita  extreme_poverty  cardiovasc_death_rate  \\\n",
       "0       54225.446              1.2                151.089   \n",
       "1       14103.452              3.4                177.961   \n",
       "2        6426.674             21.2                282.280   \n",
       "3       17336.469              2.5                152.783   \n",
       "4       39753.244              0.2                122.137   \n",
       "\n",
       "   diabetes_prevalence  female_smokers  male_smokers  \\\n",
       "0                10.79            19.1          24.6   \n",
       "1                 8.11            10.1          17.9   \n",
       "2                10.39             1.9          20.6   \n",
       "3                13.06             6.9          21.4   \n",
       "4                 4.28            20.0          24.7   \n",
       "\n",
       "   hospital_beds_per_thousand  life_expectancy  \n",
       "0                        2.77            78.86  \n",
       "1                        2.20            75.88  \n",
       "2                        0.53            69.66  \n",
       "3                        1.38            75.05  \n",
       "4                        2.54            81.32  "
      ]
     },
     "execution_count": 95,
     "metadata": {},
     "output_type": "execute_result"
    }
   ],
   "source": [
    "df_numerical.head()"
   ]
  },
  {
   "cell_type": "code",
   "execution_count": 96,
   "metadata": {},
   "outputs": [],
   "source": [
    "df_numerical.drop(['total_deaths','new_cases'],axis=1,inplace=True)"
   ]
  },
  {
   "cell_type": "code",
   "execution_count": 97,
   "metadata": {},
   "outputs": [],
   "source": [
    "\n",
    "y_train_reg = df_numerical['total_cases']\n",
    "x_train_reg = df_numerical.drop('total_cases',axis=1)\n",
    "x_test=x_train_reg.iloc[2:3,:]"
   ]
  },
  {
   "cell_type": "code",
   "execution_count": 98,
   "metadata": {},
   "outputs": [
    {
     "data": {
      "text/html": [
       "<div>\n",
       "<style scoped>\n",
       "    .dataframe tbody tr th:only-of-type {\n",
       "        vertical-align: middle;\n",
       "    }\n",
       "\n",
       "    .dataframe tbody tr th {\n",
       "        vertical-align: top;\n",
       "    }\n",
       "\n",
       "    .dataframe thead th {\n",
       "        text-align: right;\n",
       "    }\n",
       "</style>\n",
       "<table border=\"1\" class=\"dataframe\">\n",
       "  <thead>\n",
       "    <tr style=\"text-align: right;\">\n",
       "      <th></th>\n",
       "      <th>R0</th>\n",
       "      <th>population</th>\n",
       "      <th>population_density</th>\n",
       "      <th>median_age</th>\n",
       "      <th>aged_65_older</th>\n",
       "      <th>aged_70_older</th>\n",
       "      <th>gdp_per_capita</th>\n",
       "      <th>extreme_poverty</th>\n",
       "      <th>cardiovasc_death_rate</th>\n",
       "      <th>diabetes_prevalence</th>\n",
       "      <th>female_smokers</th>\n",
       "      <th>male_smokers</th>\n",
       "      <th>hospital_beds_per_thousand</th>\n",
       "      <th>life_expectancy</th>\n",
       "    </tr>\n",
       "  </thead>\n",
       "  <tbody>\n",
       "    <tr>\n",
       "      <th>0</th>\n",
       "      <td>2.465409</td>\n",
       "      <td>331002647</td>\n",
       "      <td>35.608</td>\n",
       "      <td>38.3</td>\n",
       "      <td>15.413</td>\n",
       "      <td>9.732</td>\n",
       "      <td>54225.446</td>\n",
       "      <td>1.2</td>\n",
       "      <td>151.089</td>\n",
       "      <td>10.79</td>\n",
       "      <td>19.1</td>\n",
       "      <td>24.6</td>\n",
       "      <td>2.77</td>\n",
       "      <td>78.86</td>\n",
       "    </tr>\n",
       "    <tr>\n",
       "      <th>1</th>\n",
       "      <td>2.000668</td>\n",
       "      <td>212559409</td>\n",
       "      <td>25.040</td>\n",
       "      <td>33.5</td>\n",
       "      <td>8.552</td>\n",
       "      <td>5.060</td>\n",
       "      <td>14103.452</td>\n",
       "      <td>3.4</td>\n",
       "      <td>177.961</td>\n",
       "      <td>8.11</td>\n",
       "      <td>10.1</td>\n",
       "      <td>17.9</td>\n",
       "      <td>2.20</td>\n",
       "      <td>75.88</td>\n",
       "    </tr>\n",
       "    <tr>\n",
       "      <th>2</th>\n",
       "      <td>1.731947</td>\n",
       "      <td>1380004385</td>\n",
       "      <td>450.419</td>\n",
       "      <td>28.2</td>\n",
       "      <td>5.989</td>\n",
       "      <td>3.414</td>\n",
       "      <td>6426.674</td>\n",
       "      <td>21.2</td>\n",
       "      <td>282.280</td>\n",
       "      <td>10.39</td>\n",
       "      <td>1.9</td>\n",
       "      <td>20.6</td>\n",
       "      <td>0.53</td>\n",
       "      <td>69.66</td>\n",
       "    </tr>\n",
       "    <tr>\n",
       "      <th>3</th>\n",
       "      <td>1.800513</td>\n",
       "      <td>128932753</td>\n",
       "      <td>66.444</td>\n",
       "      <td>29.3</td>\n",
       "      <td>6.857</td>\n",
       "      <td>4.321</td>\n",
       "      <td>17336.469</td>\n",
       "      <td>2.5</td>\n",
       "      <td>152.783</td>\n",
       "      <td>13.06</td>\n",
       "      <td>6.9</td>\n",
       "      <td>21.4</td>\n",
       "      <td>1.38</td>\n",
       "      <td>75.05</td>\n",
       "    </tr>\n",
       "    <tr>\n",
       "      <th>4</th>\n",
       "      <td>2.042228</td>\n",
       "      <td>67886004</td>\n",
       "      <td>272.898</td>\n",
       "      <td>40.8</td>\n",
       "      <td>18.517</td>\n",
       "      <td>12.527</td>\n",
       "      <td>39753.244</td>\n",
       "      <td>0.2</td>\n",
       "      <td>122.137</td>\n",
       "      <td>4.28</td>\n",
       "      <td>20.0</td>\n",
       "      <td>24.7</td>\n",
       "      <td>2.54</td>\n",
       "      <td>81.32</td>\n",
       "    </tr>\n",
       "  </tbody>\n",
       "</table>\n",
       "</div>"
      ],
      "text/plain": [
       "         R0  population  population_density  median_age  aged_65_older  \\\n",
       "0  2.465409   331002647              35.608        38.3         15.413   \n",
       "1  2.000668   212559409              25.040        33.5          8.552   \n",
       "2  1.731947  1380004385             450.419        28.2          5.989   \n",
       "3  1.800513   128932753              66.444        29.3          6.857   \n",
       "4  2.042228    67886004             272.898        40.8         18.517   \n",
       "\n",
       "   aged_70_older  gdp_per_capita  extreme_poverty  cardiovasc_death_rate  \\\n",
       "0          9.732       54225.446              1.2                151.089   \n",
       "1          5.060       14103.452              3.4                177.961   \n",
       "2          3.414        6426.674             21.2                282.280   \n",
       "3          4.321       17336.469              2.5                152.783   \n",
       "4         12.527       39753.244              0.2                122.137   \n",
       "\n",
       "   diabetes_prevalence  female_smokers  male_smokers  \\\n",
       "0                10.79            19.1          24.6   \n",
       "1                 8.11            10.1          17.9   \n",
       "2                10.39             1.9          20.6   \n",
       "3                13.06             6.9          21.4   \n",
       "4                 4.28            20.0          24.7   \n",
       "\n",
       "   hospital_beds_per_thousand  life_expectancy  \n",
       "0                        2.77            78.86  \n",
       "1                        2.20            75.88  \n",
       "2                        0.53            69.66  \n",
       "3                        1.38            75.05  \n",
       "4                        2.54            81.32  "
      ]
     },
     "execution_count": 98,
     "metadata": {},
     "output_type": "execute_result"
    }
   ],
   "source": [
    "x_train_reg.head()"
   ]
  },
  {
   "cell_type": "code",
   "execution_count": 99,
   "metadata": {},
   "outputs": [
    {
     "data": {
      "text/html": [
       "<div>\n",
       "<style scoped>\n",
       "    .dataframe tbody tr th:only-of-type {\n",
       "        vertical-align: middle;\n",
       "    }\n",
       "\n",
       "    .dataframe tbody tr th {\n",
       "        vertical-align: top;\n",
       "    }\n",
       "\n",
       "    .dataframe thead th {\n",
       "        text-align: right;\n",
       "    }\n",
       "</style>\n",
       "<table border=\"1\" class=\"dataframe\">\n",
       "  <thead>\n",
       "    <tr style=\"text-align: right;\">\n",
       "      <th></th>\n",
       "      <th>R0</th>\n",
       "      <th>population</th>\n",
       "      <th>population_density</th>\n",
       "      <th>median_age</th>\n",
       "      <th>aged_65_older</th>\n",
       "      <th>aged_70_older</th>\n",
       "      <th>gdp_per_capita</th>\n",
       "      <th>extreme_poverty</th>\n",
       "      <th>cardiovasc_death_rate</th>\n",
       "      <th>diabetes_prevalence</th>\n",
       "      <th>female_smokers</th>\n",
       "      <th>male_smokers</th>\n",
       "      <th>hospital_beds_per_thousand</th>\n",
       "      <th>life_expectancy</th>\n",
       "    </tr>\n",
       "  </thead>\n",
       "  <tbody>\n",
       "    <tr>\n",
       "      <th>2</th>\n",
       "      <td>1.731947</td>\n",
       "      <td>1380004385</td>\n",
       "      <td>450.419</td>\n",
       "      <td>28.2</td>\n",
       "      <td>5.989</td>\n",
       "      <td>3.414</td>\n",
       "      <td>6426.674</td>\n",
       "      <td>21.2</td>\n",
       "      <td>282.28</td>\n",
       "      <td>10.39</td>\n",
       "      <td>1.9</td>\n",
       "      <td>20.6</td>\n",
       "      <td>0.53</td>\n",
       "      <td>69.66</td>\n",
       "    </tr>\n",
       "  </tbody>\n",
       "</table>\n",
       "</div>"
      ],
      "text/plain": [
       "         R0  population  population_density  median_age  aged_65_older  \\\n",
       "2  1.731947  1380004385             450.419        28.2          5.989   \n",
       "\n",
       "   aged_70_older  gdp_per_capita  extreme_poverty  cardiovasc_death_rate  \\\n",
       "2          3.414        6426.674             21.2                 282.28   \n",
       "\n",
       "   diabetes_prevalence  female_smokers  male_smokers  \\\n",
       "2                10.39             1.9          20.6   \n",
       "\n",
       "   hospital_beds_per_thousand  life_expectancy  \n",
       "2                        0.53            69.66  "
      ]
     },
     "execution_count": 99,
     "metadata": {},
     "output_type": "execute_result"
    }
   ],
   "source": [
    "x_test"
   ]
  },
  {
   "cell_type": "code",
   "execution_count": 100,
   "metadata": {},
   "outputs": [
    {
     "data": {
      "text/plain": [
       "array([2909776.46456206])"
      ]
     },
     "execution_count": 100,
     "metadata": {},
     "output_type": "execute_result"
    }
   ],
   "source": [
    "from sklearn.linear_model import ElasticNet\n",
    "\n",
    "en_reg = ElasticNet(random_state=0)\n",
    "en_reg.fit(x_train_reg,y_train_reg)\n",
    "\n",
    "en_reg.predict(x_test)"
   ]
  },
  {
   "cell_type": "code",
   "execution_count": 101,
   "metadata": {},
   "outputs": [],
   "source": [
    "def dictionary(df,location):\n",
    "    df_location=df[df['location']==location]\n",
    "    df_location=df_location.iloc[:,3:]\n",
    "    df_location.drop(['total_cases','new_cases'],axis=1,inplace=True)\n",
    "    df_location_dict=df_location.to_dict('records')\n",
    "    \n",
    "    return df_location_dict"
   ]
  },
  {
   "cell_type": "code",
   "execution_count": 102,
   "metadata": {},
   "outputs": [],
   "source": [
    "location=\"India\"\n",
    "df_location_dict=dictionary(df,location)"
   ]
  },
  {
   "cell_type": "code",
   "execution_count": 103,
   "metadata": {},
   "outputs": [
    {
     "data": {
      "text/plain": [
       "[{'R0': 1.73194668151632,\n",
       "  'population': 1380004385,\n",
       "  'population_density': 450.419,\n",
       "  'median_age': 28.2,\n",
       "  'aged_65_older': 5.989,\n",
       "  'aged_70_older': 3.414,\n",
       "  'gdp_per_capita': 6426.674,\n",
       "  'extreme_poverty': 21.2,\n",
       "  'cardiovasc_death_rate': 282.28,\n",
       "  'diabetes_prevalence': 10.39,\n",
       "  'female_smokers': 1.9,\n",
       "  'male_smokers': 20.6,\n",
       "  'hospital_beds_per_thousand': 0.53,\n",
       "  'life_expectancy': 69.66}]"
      ]
     },
     "execution_count": 103,
     "metadata": {},
     "output_type": "execute_result"
    }
   ],
   "source": [
    "df_location_dict"
   ]
  },
  {
   "cell_type": "code",
   "execution_count": 104,
   "metadata": {},
   "outputs": [
    {
     "data": {
      "text/plain": [
       "4011607.257482387"
      ]
     },
     "execution_count": 104,
     "metadata": {},
     "output_type": "execute_result"
    }
   ],
   "source": [
    "en_reg.intercept_"
   ]
  },
  {
   "cell_type": "code",
   "execution_count": 105,
   "metadata": {},
   "outputs": [
    {
     "data": {
      "text/plain": [
       "array([-3.24330581e+04,  1.58610257e-03,  2.97057376e+01,  4.82869323e+04,\n",
       "       -5.88003302e+04, -1.56766303e+04,  2.85306417e+01,  4.54308318e+02,\n",
       "       -8.28876500e+01,  9.58967591e+04,  2.62850785e+04, -1.57114054e+04,\n",
       "       -3.71511145e+04, -7.28745072e+04])"
      ]
     },
     "execution_count": 105,
     "metadata": {},
     "output_type": "execute_result"
    }
   ],
   "source": [
    "en_reg.coef_"
   ]
  },
  {
   "cell_type": "code",
   "execution_count": 106,
   "metadata": {},
   "outputs": [],
   "source": [
    "confirmed_old=en_reg.intercept_\n",
    "k=0\n",
    "for i in df_location_dict[0].values():\n",
    "#     print(k)\n",
    "#     print(i)\n",
    "#     print(en_reg.coef_[k])\n",
    "    confirmed_old=confirmed_old+(i*en_reg.coef_[k])\n",
    "    k=k+1"
   ]
  },
  {
   "cell_type": "code",
   "execution_count": 107,
   "metadata": {},
   "outputs": [
    {
     "data": {
      "text/plain": [
       "2909776.4645620612"
      ]
     },
     "execution_count": 107,
     "metadata": {},
     "output_type": "execute_result"
    }
   ],
   "source": [
    "confirmed_old"
   ]
  },
  {
   "cell_type": "code",
   "execution_count": null,
   "metadata": {},
   "outputs": [],
   "source": [
    "original total_cases=3853406"
   ]
  },
  {
   "cell_type": "code",
   "execution_count": 110,
   "metadata": {},
   "outputs": [
    {
     "data": {
      "text/plain": [
       "943630"
      ]
     },
     "execution_count": 110,
     "metadata": {},
     "output_type": "execute_result"
    }
   ],
   "source": [
    "3853406-2909776"
   ]
  },
  {
   "cell_type": "code",
   "execution_count": 108,
   "metadata": {},
   "outputs": [],
   "source": [
    "def simulation(parameter,change,by,df_location_dict,confirmed_old):\n",
    "    df_location_dict_copy=df_location_dict.copy()\n",
    "    if change=='increase':\n",
    "        df_location_dict_copy[parameter]=int(df_location_dict[parameter]+(by/100)*df_location_dict[parameter])\n",
    "    else:\n",
    "        df_location_dict_copy[parameter]=int(df_location_dict[parameter]-(by/100)*df_location_dict[parameter])\n",
    "     \n",
    "    confirmed_new=en_reg.intercept_\n",
    "    k=0\n",
    "    for i in df_location_dict_copy.values():\n",
    "        confirmed_new=confirmed_new+(i*en_reg.coef_[k])\n",
    "        k=k+1\n",
    "    if confirmed_new>confirmed_old:\n",
    "        c=\"increased\"\n",
    "    else:\n",
    "        c=\"decreased\"\n",
    "    \n",
    "    confirmed_change=round(((abs(confirmed_new-confirmed_old)/confirmed_old)*100),2)\n",
    "    print(\"If \" +parameter+\" \"+ change+\" by \"+ str(by) +\"% i.e. from \" + str(df_location_dict[parameter]) +\" to \"+str(df_location_dict_copy[parameter])+ \", then confirmed cases will be \"+ c +\" by \"+str(confirmed_change)+\"%\")"
   ]
  },
  {
   "cell_type": "code",
   "execution_count": 109,
   "metadata": {},
   "outputs": [
    {
     "name": "stdout",
     "output_type": "stream",
     "text": [
      "If diabetes_prevalence increase by 10% i.e. from 10.39 to 11, then confirmed cases will be increased by 2.01%\n"
     ]
    }
   ],
   "source": [
    "parameter='diabetes_prevalence'\n",
    "change='increase'\n",
    "by=10\n",
    "simulation(parameter,change,by,df_location_dict[0],confirmed_old)"
   ]
  },
  {
   "cell_type": "code",
   "execution_count": null,
   "metadata": {},
   "outputs": [],
   "source": []
  }
 ],
 "metadata": {
  "kernelspec": {
   "display_name": "Python 3",
   "language": "python",
   "name": "python3"
  },
  "language_info": {
   "codemirror_mode": {
    "name": "ipython",
    "version": 3
   },
   "file_extension": ".py",
   "mimetype": "text/x-python",
   "name": "python",
   "nbconvert_exporter": "python",
   "pygments_lexer": "ipython3",
   "version": "3.8.3"
  }
 },
 "nbformat": 4,
 "nbformat_minor": 4
}
